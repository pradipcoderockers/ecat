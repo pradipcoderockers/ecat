{
 "cells": [
  {
   "cell_type": "code",
   "execution_count": 1,
   "metadata": {},
   "outputs": [
    {
     "name": "stdout",
     "output_type": "stream",
     "text": [
      "data {'sdg': [{'name': 'Others', 'size': {'budget': Decimal('112331502.45'), 'expense': Decimal('21235158.23'), 'percentage': Decimal('100')}, 'color': '', 'children': [{'name': 'Target 1.1', 'color': 'a01720', 'description': 'By 2030, eradicate extreme poverty for all people everywhere, currently measured as people living on less than $1.25 a day', 'size': {'budget': Decimal('9169757.23920000000000000000'), 'expense': Decimal('2928017.54100000000000000000'), 'percentage': Decimal('54.32055750190161602242543488')}}, {'name': 'Target 1.2', 'color': 'ea435b', 'description': 'By 2030, reduce at least by half the proportion of men, women and children of all ages living in poverty in all its dimensions according to national definitions', 'size': {'budget': Decimal('1012684.7685000000000000'), 'expense': Decimal('276559.87360000000000000000'), 'percentage': Decimal('5.999024812068350479156247839')}}, {'name': 'Target 1.3', 'color': 'ef808d', 'description': 'Implement nationally appropriate social protection systems and measures for all, including floors, and by 2030 achieve substantial coverage of the poor and the vulnerable', 'size': {'budget': Decimal('6698381.12980000000000000000'), 'expense': Decimal('1962969.18390000000000000000'), 'percentage': Decimal('39.68041768603003349841831728')}}], 'code': '0'}, {'name': 'Others', 'size': {'budget': Decimal('112331502.45'), 'expense': Decimal('21235158.23'), 'percentage': Decimal('100')}, 'color': '', 'children': [{'name': 'Target 2.1', 'color': 'a77d2e', 'description': 'By 2030, end hunger and ensure access by all people, in particular the poor and people in vulnerable situations, including infants, to safe, nutritious and sufficient food all year round', 'size': {'budget': Decimal('997253.6765000000000000'), 'expense': Decimal('190872.68950000000000000000'), 'percentage': Decimal('10.61985229174743647770462817')}}, {'name': 'Target 2.2', 'color': 'ca9223', 'description': 'By 2030, end all forms of malnutrition, including achieving, by 2025, the internationally agreed targets on stunting and wasting in children under 5 years of age, and address the nutritional needs of adolescent girls, pregnant and lactating women and older persons', 'size': {'budget': Decimal('6930253.6681000000000000'), 'expense': Decimal('274552.03590000000000000000'), 'percentage': Decimal('73.80095158722923295072379030')}}, {'name': 'Target 2.3', 'color': 'daa946', 'description': 'By 2030, double the agricultural productivity and incomes of small-scale food producers, in particular women, indigenous peoples, family farmers, pastoralists and fishers, including through secure and equal access to land, other productive resources and inputs, knowledge, financial services, markets and opportunities for value addition and non-farm employment', 'size': {'budget': Decimal('1462959.199600000000'), 'expense': Decimal('368580.009900000000'), 'percentage': Decimal('15.57919612102333057157158153')}}], 'code': '0'}, {'name': 'Others', 'size': {'budget': Decimal('112331502.45'), 'expense': Decimal('21235158.23'), 'percentage': Decimal('100')}, 'color': '', 'children': [{'name': 'Target 3.1', 'color': '376b25', 'description': 'By 2030, reduce the global maternal mortality ratio to less than 70 per 100,000 live births', 'size': {'budget': Decimal('5013448.46820000000000000000'), 'expense': Decimal('698140.84530000000000000000'), 'percentage': Decimal('37.02229455374243201552884183')}}, {'name': 'Target 3.2', 'color': '588f49', 'description': 'By 2030, end preventable deaths of newborns and children under 5 years of age, with all countries aiming to reduce neonatal mortality to at least as low as 12 per 1,000 live births and under-5 mortality to at least as low as 25 per 1,000 live births', 'size': {'budget': Decimal('3470326.4703000000000000'), 'expense': Decimal('902013.48770000000000000000'), 'percentage': Decimal('25.62696108198443649294352997')}}, {'name': 'Target 3.3', 'color': '59a948', 'description': 'By 2030, end the epidemics of AIDS, tuberculosis, malaria and neglected tropical diseases and combat hepatitis, water-borne diseases and other communicable diseases', 'size': {'budget': Decimal('5057926.15980000000000000000'), 'expense': Decimal('1003337.91320000000000000000'), 'percentage': Decimal('37.35074436427313149152762820')}}], 'code': '0'}]}\n"
     ]
    },
    {
     "data": {
      "text/plain": [
       "{'sdg': [{'name': 'Others',\n",
       "   'size': {'budget': Decimal('112331502.45'),\n",
       "    'expense': Decimal('21235158.23'),\n",
       "    'percentage': Decimal('100')},\n",
       "   'color': '',\n",
       "   'children': [{'name': 'Target 1.1',\n",
       "     'color': 'a01720',\n",
       "     'description': 'By 2030, eradicate extreme poverty for all people everywhere, currently measured as people living on less than $1.25 a day',\n",
       "     'size': {'budget': Decimal('9169757.23920000000000000000'),\n",
       "      'expense': Decimal('2928017.54100000000000000000'),\n",
       "      'percentage': Decimal('54.32055750190161602242543488')}},\n",
       "    {'name': 'Target 1.2',\n",
       "     'color': 'ea435b',\n",
       "     'description': 'By 2030, reduce at least by half the proportion of men, women and children of all ages living in poverty in all its dimensions according to national definitions',\n",
       "     'size': {'budget': Decimal('1012684.7685000000000000'),\n",
       "      'expense': Decimal('276559.87360000000000000000'),\n",
       "      'percentage': Decimal('5.999024812068350479156247839')}},\n",
       "    {'name': 'Target 1.3',\n",
       "     'color': 'ef808d',\n",
       "     'description': 'Implement nationally appropriate social protection systems and measures for all, including floors, and by 2030 achieve substantial coverage of the poor and the vulnerable',\n",
       "     'size': {'budget': Decimal('6698381.12980000000000000000'),\n",
       "      'expense': Decimal('1962969.18390000000000000000'),\n",
       "      'percentage': Decimal('39.68041768603003349841831728')}}],\n",
       "   'code': '0'},\n",
       "  {'name': 'Others',\n",
       "   'size': {'budget': Decimal('112331502.45'),\n",
       "    'expense': Decimal('21235158.23'),\n",
       "    'percentage': Decimal('100')},\n",
       "   'color': '',\n",
       "   'children': [{'name': 'Target 2.1',\n",
       "     'color': 'a77d2e',\n",
       "     'description': 'By 2030, end hunger and ensure access by all people, in particular the poor and people in vulnerable situations, including infants, to safe, nutritious and sufficient food all year round',\n",
       "     'size': {'budget': Decimal('997253.6765000000000000'),\n",
       "      'expense': Decimal('190872.68950000000000000000'),\n",
       "      'percentage': Decimal('10.61985229174743647770462817')}},\n",
       "    {'name': 'Target 2.2',\n",
       "     'color': 'ca9223',\n",
       "     'description': 'By 2030, end all forms of malnutrition, including achieving, by 2025, the internationally agreed targets on stunting and wasting in children under 5 years of age, and address the nutritional needs of adolescent girls, pregnant and lactating women and older persons',\n",
       "     'size': {'budget': Decimal('6930253.6681000000000000'),\n",
       "      'expense': Decimal('274552.03590000000000000000'),\n",
       "      'percentage': Decimal('73.80095158722923295072379030')}},\n",
       "    {'name': 'Target 2.3',\n",
       "     'color': 'daa946',\n",
       "     'description': 'By 2030, double the agricultural productivity and incomes of small-scale food producers, in particular women, indigenous peoples, family farmers, pastoralists and fishers, including through secure and equal access to land, other productive resources and inputs, knowledge, financial services, markets and opportunities for value addition and non-farm employment',\n",
       "     'size': {'budget': Decimal('1462959.199600000000'),\n",
       "      'expense': Decimal('368580.009900000000'),\n",
       "      'percentage': Decimal('15.57919612102333057157158153')}}],\n",
       "   'code': '0'},\n",
       "  {'name': 'Others',\n",
       "   'size': {'budget': Decimal('112331502.45'),\n",
       "    'expense': Decimal('21235158.23'),\n",
       "    'percentage': Decimal('100')},\n",
       "   'color': '',\n",
       "   'children': [{'name': 'Target 3.1',\n",
       "     'color': '376b25',\n",
       "     'description': 'By 2030, reduce the global maternal mortality ratio to less than 70 per 100,000 live births',\n",
       "     'size': {'budget': Decimal('5013448.46820000000000000000'),\n",
       "      'expense': Decimal('698140.84530000000000000000'),\n",
       "      'percentage': Decimal('37.02229455374243201552884183')}},\n",
       "    {'name': 'Target 3.2',\n",
       "     'color': '588f49',\n",
       "     'description': 'By 2030, end preventable deaths of newborns and children under 5 years of age, with all countries aiming to reduce neonatal mortality to at least as low as 12 per 1,000 live births and under-5 mortality to at least as low as 25 per 1,000 live births',\n",
       "     'size': {'budget': Decimal('3470326.4703000000000000'),\n",
       "      'expense': Decimal('902013.48770000000000000000'),\n",
       "      'percentage': Decimal('25.62696108198443649294352997')}},\n",
       "    {'name': 'Target 3.3',\n",
       "     'color': '59a948',\n",
       "     'description': 'By 2030, end the epidemics of AIDS, tuberculosis, malaria and neglected tropical diseases and combat hepatitis, water-borne diseases and other communicable diseases',\n",
       "     'size': {'budget': Decimal('5057926.15980000000000000000'),\n",
       "      'expense': Decimal('1003337.91320000000000000000'),\n",
       "      'percentage': Decimal('37.35074436427313149152762820')}}],\n",
       "   'code': '0'}]}"
      ]
     },
     "execution_count": 1,
     "metadata": {},
     "output_type": "execute_result"
    }
   ],
   "source": []
  },
  {
   "cell_type": "code",
   "execution_count": null,
   "metadata": {},
   "outputs": [],
   "source": []
  },
  {
   "cell_type": "code",
   "execution_count": null,
   "metadata": {},
   "outputs": [],
   "source": []
  },
  {
   "cell_type": "code",
   "execution_count": null,
   "metadata": {},
   "outputs": [],
   "source": []
  },
  {
   "cell_type": "code",
   "execution_count": null,
   "metadata": {},
   "outputs": [],
   "source": []
  },
  {
   "cell_type": "code",
   "execution_count": null,
   "metadata": {},
   "outputs": [],
   "source": []
  },
  {
   "cell_type": "code",
   "execution_count": null,
   "metadata": {},
   "outputs": [],
   "source": []
  },
  {
   "cell_type": "code",
   "execution_count": null,
   "metadata": {},
   "outputs": [],
   "source": []
  }
 ],
 "metadata": {
  "kernelspec": {
   "display_name": "Django Shell-Plus",
   "language": "python",
   "name": "django_extensions"
  },
  "language_info": {
   "codemirror_mode": {
    "name": "ipython",
    "version": 3
   },
   "file_extension": ".py",
   "mimetype": "text/x-python",
   "name": "python",
   "nbconvert_exporter": "python",
   "pygments_lexer": "ipython3",
   "version": "3.6.7"
  }
 },
 "nbformat": 4,
 "nbformat_minor": 2
}
