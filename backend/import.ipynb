{
 "cells": [
  {
   "cell_type": "code",
   "execution_count": 15,
   "metadata": {
    "scrolled": false
   },
   "outputs": [],
   "source": [
    "import logging\n",
    "import os\n",
    "import xlrd\n",
    "import re\n",
    "from django.utils import timezone\n",
    "from categories.models import *\n",
    "# from common.models import CostCenter, Country, BusinessUnit\n",
    "# from partner.models import (\n",
    "#     ImplementerType, Partner, PartnerMember, Role as PartnerRole\n",
    "# )\n",
    "# from unhcr.models import (UNHCRMember,\n",
    "#                           Role as UNHCRRole)\n",
    "# from project.models import (\n",
    "#     Pillar, Vendor, Operation, Goal,\n",
    "#     PopulationPlanningGroup, Situation, AgreementType, Cycle,\n",
    "#     Agreement, AgreementReport, Output, AgreementBudget,\n",
    "#     Account,SenseCheck,Status\n",
    "# )\n",
    "# from account.models import User\n",
    "# from project.tasks import assign_agreement_member\n",
    "# logger = logging.getLogger('console')\n",
    "# from auditing.models import (AuditAgency,Role as AuditRole,AuditWorksplitGroup)\n",
    "# from auditing.serializers import WorkSplitGroupSerializer\n",
    "# def create_audit_member(member_detail,auditor):\n",
    "#     user,created  = User.objects.get_or_create(email=member_detail['email'])\n",
    "#     user.fullname = member_detail['name']\n",
    "#     user.phone = member_detail['phone']\n",
    "#     user.save()\n",
    "#     auditor_member_check = AuditMember.objects.filter(audit_agency_id=member_detail['auditor_id'],role__role=member_detail['role'],user_id=user.id)\n",
    "#     print(\"auditor_member_check\",member_detail['auditor_id'])\n",
    "#     if auditor_member_check.exists() == False:\n",
    "#         role = AuditRole.objects.get(role=member_detail['role'])\n",
    "#         auditor_member = AuditMember(\n",
    "#                             user=user,\n",
    "#                             role=role,\n",
    "#                             audit_agency=auditor,\n",
    "#                             date_send_invitation=timezone.now().date()\n",
    "#                         )\n",
    "#         auditor_member.save()\n",
    "\n",
    "def import_audit_group():\n",
    "    cwd = os.getcwd()\n",
    "    xls = os.path.join(cwd, \"MSP\", \"unique.xlsx\")\n",
    "    wb = xlrd.open_workbook(xls)\n",
    "    sheet = wb.sheet_by_index(6)\n",
    "    keys = []\n",
    "    errors = []\n",
    "\n",
    "    for idx_j in range(sheet.ncols):\n",
    "        keys.append(sheet.cell(1, idx_j).value)\n",
    "    \n",
    "    for idx_i in range(0, sheet.nrows):\n",
    "        item = {}\n",
    "        for idx_j in range(sheet.ncols):\n",
    "            item[keys[idx_j]] = sheet.cell(idx_i, idx_j).value\n",
    "        \n",
    "        \n",
    "        if item['Vehicle Model  Desc'] is not None:\n",
    "            segment = VechicleModel(\n",
    "                            name=item['Vehicle Model  Desc'],\n",
    "                            code=item['Vehicle Model code'],\n",
    "                            shortDesc=item['Vehicle Model  Desc'],\n",
    "                            longDesc=item['Vehicle Model  Desc']\n",
    "                        )\n",
    "           # segment.save()\n",
    "\n",
    "            \n",
    "import_audit_group()\n"
   ]
  },
  {
   "cell_type": "code",
   "execution_count": null,
   "metadata": {},
   "outputs": [],
   "source": []
  },
  {
   "cell_type": "code",
   "execution_count": null,
   "metadata": {},
   "outputs": [],
   "source": []
  },
  {
   "cell_type": "code",
   "execution_count": null,
   "metadata": {},
   "outputs": [],
   "source": []
  },
  {
   "cell_type": "code",
   "execution_count": null,
   "metadata": {},
   "outputs": [],
   "source": []
  },
  {
   "cell_type": "code",
   "execution_count": null,
   "metadata": {},
   "outputs": [],
   "source": []
  },
  {
   "cell_type": "code",
   "execution_count": null,
   "metadata": {},
   "outputs": [],
   "source": []
  },
  {
   "cell_type": "code",
   "execution_count": null,
   "metadata": {},
   "outputs": [],
   "source": []
  },
  {
   "cell_type": "code",
   "execution_count": null,
   "metadata": {},
   "outputs": [],
   "source": []
  },
  {
   "cell_type": "code",
   "execution_count": null,
   "metadata": {},
   "outputs": [],
   "source": []
  },
  {
   "cell_type": "code",
   "execution_count": null,
   "metadata": {},
   "outputs": [],
   "source": []
  }
 ],
 "metadata": {
  "kernelspec": {
   "display_name": "Django Shell-Plus",
   "language": "python",
   "name": "django_extensions"
  },
  "language_info": {
   "codemirror_mode": {
    "name": "ipython",
    "version": 3
   },
   "file_extension": ".py",
   "mimetype": "text/x-python",
   "name": "python",
   "nbconvert_exporter": "python",
   "pygments_lexer": "ipython3",
   "version": "3.6.7"
  }
 },
 "nbformat": 4,
 "nbformat_minor": 2
}
