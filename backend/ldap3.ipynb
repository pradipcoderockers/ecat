{
 "cells": [
  {
   "cell_type": "code",
   "execution_count": 4,
   "metadata": {},
   "outputs": [
    {
     "data": {
      "text/plain": [
       "DSA info (from DSE):\n",
       "  Supported LDAP versions: 2, 3\n",
       "  Naming contexts: \n",
       "    ou=undp,o=un\n",
       "  Supported controls: \n",
       "    1.2.826.0.1.3344810.2.3 - Matched Values - Control - RFC3876\n",
       "    1.2.840.113556.1.4.1413 - Permissive modify - Control - MICROSOFT\n",
       "    1.2.840.113556.1.4.319 - LDAP Simple Paged Results - Control - RFC2696\n",
       "    1.2.840.113556.1.4.473 - Sort Request - Control - RFC2891\n",
       "    1.2.840.113556.1.4.805 - Tree delete - Control - MICROSOFT\n",
       "    1.3.6.1.1.12 - Assertion - Control - RFC4528\n",
       "    1.3.6.1.1.13.1 - LDAP Pre-read - Control - RFC4527\n",
       "    1.3.6.1.1.13.2 - LDAP Post-read - Control - RFC4527\n",
       "    1.3.6.1.4.1.26027.1.5.2 - Replication repair - Control - OpenDS\n",
       "    1.3.6.1.4.1.26027.1.5.4\n",
       "    1.3.6.1.4.1.26027.1.5.5\n",
       "    1.3.6.1.4.1.26027.1.5.6\n",
       "    1.3.6.1.4.1.26027.2.3.1\n",
       "    1.3.6.1.4.1.26027.2.3.2\n",
       "    1.3.6.1.4.1.26027.2.3.4\n",
       "    1.3.6.1.4.1.42.2.27.8.5.1 - Password policy - Control - IETF DRAFT behera-ldap-password-policy\n",
       "    1.3.6.1.4.1.42.2.27.9.5.2 - Get effective rights - Control - IETF DRAFT draft-ietf-ldapext-acl-model\n",
       "    1.3.6.1.4.1.42.2.27.9.5.8 - Account usability - Control - SUN microsystems\n",
       "    1.3.6.1.4.1.4203.1.10.1 - Subentries - Control - RFC3672\n",
       "    1.3.6.1.4.1.4203.1.10.2 - No-Operation - Control - IETF DRAFT draft-zeilenga-ldap-noop\n",
       "    2.16.840.1.113730.3.4.12 - Proxied Authorization (old) - Control - Netscape\n",
       "    2.16.840.1.113730.3.4.16 - Authorization Identity Request Control - Control - RFC3829\n",
       "    2.16.840.1.113730.3.4.17 - Real attribute only request - Control - Netscape\n",
       "    2.16.840.1.113730.3.4.18 - Proxy Authorization Control - Control - RFC6171\n",
       "    2.16.840.1.113730.3.4.19 - Chaining loop detection - Control - Netscape\n",
       "    2.16.840.1.113730.3.4.2 - ManageDsaIT - Control - RFC3296\n",
       "    2.16.840.1.113730.3.4.3 - Persistent Search - Control - IETF\n",
       "    2.16.840.1.113730.3.4.4 - Netscape Password Expired - Control - Netscape\n",
       "    2.16.840.1.113730.3.4.5 - Netscape Password Expiring - Control - Netscape\n",
       "    2.16.840.1.113730.3.4.9 - Virtual List View Request - Control - IETF\n",
       "    2.16.840.1.113894.1.8.21\n",
       "    2.16.840.1.113894.1.8.31\n",
       "    2.16.840.1.113894.1.8.36\n",
       "  Supported extensions: \n",
       "    1.3.6.1.1.8 - Cancel Operation - Extension - RFC3909\n",
       "    1.3.6.1.4.1.1466.20037 - StartTLS - Extension - RFC4511-RFC4513\n",
       "    1.3.6.1.4.1.26027.1.6.1 - Password policy state - Control - OpenDS\n",
       "    1.3.6.1.4.1.26027.1.6.2 - Get connection ID - Control - OpenDS\n",
       "    1.3.6.1.4.1.26027.1.6.3 - Get symmetric key - Control - OpenDS\n",
       "    1.3.6.1.4.1.4203.1.11.1 - Modify Password - Extension - RFC3062\n",
       "    1.3.6.1.4.1.4203.1.11.3 - Who am I - Extension - RFC4532\n",
       "  Supported features: \n",
       "    1.3.6.1.1.14 - Modify-Increment - Feature - RFC4525\n",
       "    1.3.6.1.4.1.4203.1.5.1 - All Op Attrs - Feature - RFC3673\n",
       "    1.3.6.1.4.1.4203.1.5.2 - OC AD Lists - Feature - RFC4529\n",
       "    1.3.6.1.4.1.4203.1.5.3 - True/False filters - Feature - RFC4526\n",
       "  Supported SASL mechanisms: \n",
       "    PLAIN, EXTERNAL, CRAM-MD5, DIGEST-MD5\n",
       "  Schema entry: \n",
       "    cn=schema\n",
       "Vendor name: Oracle Corporation\n",
       "Vendor version: Oracle Unified Directory 12.2.1.4.0\n",
       "Other:\n",
       "  objectClass: \n",
       "    top\n",
       "    ds-root-dse\n",
       "  entryDN: \n",
       "\n",
       "  supportedAuthPasswordSchemes: \n",
       "    SHA256\n",
       "    SHA1\n",
       "    SHA384\n",
       "    SHA512\n",
       "    MD5\n",
       "  orclGUID: \n",
       "D41D8CD98F003204A9800998ECF8427E\n",
       "  entryUUID: \n",
       "d41d8cd9-8f00-3204-a980-0998ecf8427e\n",
       "  nsUniqueId: \n",
       "d41d8cd9-8f003204-a9800998-ecf8427e"
      ]
     },
     "execution_count": 4,
     "metadata": {},
     "output_type": "execute_result"
    }
   ],
   "source": [
    "from django.conf import settings\n",
    "from ldap3 import Server, Connection, ALL\n",
    "\n",
    "server = Server(host=settings.LDAP_HOST, port=int(settings.LDAP_PORT), get_info=ALL)\n",
    "conn = Connection(server, user=settings.LDAP_USERNAME, password=settings.LDAP_PASSWORD, auto_bind=True)\n",
    "server.info"
   ]
  },
  {
   "cell_type": "code",
   "execution_count": null,
   "metadata": {},
   "outputs": [],
   "source": []
  }
 ],
 "metadata": {
  "kernelspec": {
   "display_name": "Django Shell-Plus",
   "language": "python",
   "name": "django_extensions"
  },
  "language_info": {
   "codemirror_mode": {
    "name": "ipython",
    "version": 3
   },
   "file_extension": ".py",
   "mimetype": "text/x-python",
   "name": "python",
   "nbconvert_exporter": "python",
   "pygments_lexer": "ipython3",
   "version": "3.6.7"
  }
 },
 "nbformat": 4,
 "nbformat_minor": 4
}
